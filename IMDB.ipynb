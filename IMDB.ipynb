{
 "cells": [
  {
   "cell_type": "code",
   "execution_count": 10,
   "metadata": {},
   "outputs": [
    {
     "data": {
      "text/plain": [
       "'2.2.4'"
      ]
     },
     "execution_count": 10,
     "metadata": {},
     "output_type": "execute_result"
    }
   ],
   "source": [
    "import keras\n",
    "keras.__version__"
   ]
  },
  {
   "cell_type": "code",
   "execution_count": 11,
   "metadata": {},
   "outputs": [],
   "source": [
    "from keras.datasets import imdb\n",
    "\n",
    "(train_data, train_labels), (test_data, test_labels) = imdb.load_data(num_words = 10000)"
   ]
  },
  {
   "cell_type": "code",
   "execution_count": 12,
   "metadata": {},
   "outputs": [
    {
     "data": {
      "text/plain": [
       "(25000,)"
      ]
     },
     "execution_count": 12,
     "metadata": {},
     "output_type": "execute_result"
    }
   ],
   "source": [
    "train_data.shape"
   ]
  },
  {
   "cell_type": "code",
   "execution_count": 13,
   "metadata": {},
   "outputs": [
    {
     "data": {
      "text/plain": [
       "9999"
      ]
     },
     "execution_count": 13,
     "metadata": {},
     "output_type": "execute_result"
    }
   ],
   "source": [
    "max(max(seq) for seq in train_data)"
   ]
  },
  {
   "cell_type": "code",
   "execution_count": 15,
   "metadata": {},
   "outputs": [
    {
     "name": "stdout",
     "output_type": "stream",
     "text": [
      "Downloading data from https://s3.amazonaws.com/text-datasets/imdb_word_index.json\n",
      "1646592/1641221 [==============================] - 11s 7us/step\n"
     ]
    }
   ],
   "source": [
    "word_index = imdb.get_word_index()\n",
    "reverse_word_index = dict([(value,key) for key,value in word_index.items()])\n",
    "decoded_review = ' '.join([reverse_word_index.get(i-3, '?') for i in train_data[0]])"
   ]
  },
  {
   "cell_type": "code",
   "execution_count": 16,
   "metadata": {},
   "outputs": [
    {
     "data": {
      "text/plain": [
       "\"? this film was just brilliant casting location scenery story direction everyone's really suited the part they played and you could just imagine being there robert ? is an amazing actor and now the same being director ? father came from the same scottish island as myself so i loved the fact there was a real connection with this film the witty remarks throughout the film were great it was just brilliant so much that i bought the film as soon as it was released for ? and would recommend it to everyone to watch and the fly fishing was amazing really cried at the end it was so sad and you know what they say if you cry at a film it must have been good and this definitely was also ? to the two little boy's that played the ? of norman and paul they were just brilliant children are often left out of the ? list i think because the stars that play them all grown up are such a big profile for the whole film but these children are amazing and should be praised for what they have done don't you think the whole story was so lovely because it was true and was someone's life after all that was shared with us all\""
      ]
     },
     "execution_count": 16,
     "metadata": {},
     "output_type": "execute_result"
    }
   ],
   "source": [
    "decoded_review"
   ]
  },
  {
   "cell_type": "code",
   "execution_count": 17,
   "metadata": {},
   "outputs": [],
   "source": [
    "import numpy as np\n",
    "\n",
    "def vectorize_sequences(sequences, dimension = 10000):\n",
    "    results = np.zeros((len(sequences), dimension))\n",
    "    \n",
    "    for i, sequence in enumerate(sequences):\n",
    "        results[i, sequence] = 1\n",
    "        \n",
    "    return results\n",
    "\n",
    "x_train = vectorize_sequences(train_data)\n",
    "x_test = vectorize_sequences(test_data)"
   ]
  },
  {
   "cell_type": "code",
   "execution_count": 27,
   "metadata": {},
   "outputs": [],
   "source": [
    "y_train = np.asarray(train_labels).astype('float32')\n",
    "y_test = np.asarray(test_labels).astype('float32')"
   ]
  },
  {
   "cell_type": "code",
   "execution_count": 30,
   "metadata": {},
   "outputs": [],
   "source": [
    "from keras import layers\n",
    "from keras import models"
   ]
  },
  {
   "cell_type": "code",
   "execution_count": 60,
   "metadata": {},
   "outputs": [],
   "source": [
    "model = models.Sequential()"
   ]
  },
  {
   "cell_type": "code",
   "execution_count": 61,
   "metadata": {},
   "outputs": [],
   "source": [
    "model.add(layers.Dense(16, activation='relu', input_shape = (10000, )))\n",
    "model.add(layers.Dense(16, activation='relu'))\n",
    "model.add(layers.Dense(1, activation='sigmoid'))"
   ]
  },
  {
   "cell_type": "code",
   "execution_count": 62,
   "metadata": {},
   "outputs": [],
   "source": [
    "model.compile(optimizer='rmsprop',\n",
    "             loss='binary_crossentropy',\n",
    "             metrics=['accuracy'])"
   ]
  },
  {
   "cell_type": "code",
   "execution_count": 35,
   "metadata": {},
   "outputs": [],
   "source": [
    "# using custom loss and optimizer for training\n",
    "\n",
    "# from keras import optimizers\n",
    "# from keras import losses\n",
    "# from keras import metrics\n",
    "\n",
    "# model.compile(optimizer=optimizers.RMSprop(lr = 0.001),\n",
    "#              loss=losses.binary_crossentropy,\n",
    "#              metrics=[metrics.binary_accuracy])"
   ]
  },
  {
   "cell_type": "code",
   "execution_count": 63,
   "metadata": {},
   "outputs": [],
   "source": [
    "x_val = x_train[:10000]\n",
    "partial_x_train = x_train[10000:]\n",
    "\n",
    "y_val = y_train[:10000]\n",
    "partial_y_train = y_train[10000:]"
   ]
  },
  {
   "cell_type": "code",
   "execution_count": 69,
   "metadata": {},
   "outputs": [
    {
     "name": "stdout",
     "output_type": "stream",
     "text": [
      "Train on 15000 samples, validate on 10000 samples\n",
      "Epoch 1/20\n",
      "15000/15000 [==============================] - 2s 109us/step - loss: 0.1353 - acc: 0.9579 - val_loss: 0.2855 - val_acc: 0.8877\n",
      "Epoch 2/20\n",
      "15000/15000 [==============================] - 2s 102us/step - loss: 0.1153 - acc: 0.9639 - val_loss: 0.2982 - val_acc: 0.8840\n",
      "Epoch 3/20\n",
      "15000/15000 [==============================] - 2s 102us/step - loss: 0.0924 - acc: 0.9725 - val_loss: 0.3237 - val_acc: 0.8813\n",
      "Epoch 4/20\n",
      "15000/15000 [==============================] - 2s 101us/step - loss: 0.0748 - acc: 0.9796 - val_loss: 0.3404 - val_acc: 0.8782\n",
      "Epoch 5/20\n",
      "15000/15000 [==============================] - 2s 104us/step - loss: 0.0652 - acc: 0.9819 - val_loss: 0.3665 - val_acc: 0.8784\n",
      "Epoch 6/20\n",
      "15000/15000 [==============================] - 2s 109us/step - loss: 0.0550 - acc: 0.9851 - val_loss: 0.3897 - val_acc: 0.8768\n",
      "Epoch 7/20\n",
      "15000/15000 [==============================] - 1s 100us/step - loss: 0.0422 - acc: 0.9902 - val_loss: 0.4339 - val_acc: 0.8680\n",
      "Epoch 8/20\n",
      "15000/15000 [==============================] - 1s 95us/step - loss: 0.0366 - acc: 0.9916 - val_loss: 0.4469 - val_acc: 0.8720\n",
      "Epoch 9/20\n",
      "15000/15000 [==============================] - 1s 89us/step - loss: 0.0302 - acc: 0.9935 - val_loss: 0.4996 - val_acc: 0.8713\n",
      "Epoch 10/20\n",
      "15000/15000 [==============================] - 1s 89us/step - loss: 0.0235 - acc: 0.9954 - val_loss: 0.5059 - val_acc: 0.8684\n",
      "Epoch 11/20\n",
      "15000/15000 [==============================] - 1s 89us/step - loss: 0.0215 - acc: 0.9954 - val_loss: 0.5365 - val_acc: 0.8693\n",
      "Epoch 12/20\n",
      "15000/15000 [==============================] - 1s 90us/step - loss: 0.0133 - acc: 0.9985 - val_loss: 0.5755 - val_acc: 0.8680\n",
      "Epoch 13/20\n",
      "15000/15000 [==============================] - 1s 89us/step - loss: 0.0139 - acc: 0.9975 - val_loss: 0.5992 - val_acc: 0.8652\n",
      "Epoch 14/20\n",
      "15000/15000 [==============================] - 1s 89us/step - loss: 0.0127 - acc: 0.9975 - val_loss: 0.6341 - val_acc: 0.8643\n",
      "Epoch 15/20\n",
      "15000/15000 [==============================] - 1s 89us/step - loss: 0.0059 - acc: 0.9999 - val_loss: 0.6819 - val_acc: 0.8637\n",
      "Epoch 16/20\n",
      "15000/15000 [==============================] - 1s 89us/step - loss: 0.0092 - acc: 0.9983 - val_loss: 0.6905 - val_acc: 0.8630\n",
      "Epoch 17/20\n",
      "15000/15000 [==============================] - 1s 88us/step - loss: 0.0034 - acc: 0.9999 - val_loss: 0.7567 - val_acc: 0.8614\n",
      "Epoch 18/20\n",
      "15000/15000 [==============================] - 1s 88us/step - loss: 0.0066 - acc: 0.9985 - val_loss: 0.7592 - val_acc: 0.8622\n",
      "Epoch 19/20\n",
      "15000/15000 [==============================] - 1s 88us/step - loss: 0.0021 - acc: 0.9998 - val_loss: 0.7842 - val_acc: 0.8631\n",
      "Epoch 20/20\n",
      "15000/15000 [==============================] - 1s 89us/step - loss: 0.0044 - acc: 0.9991 - val_loss: 0.8185 - val_acc: 0.8615\n"
     ]
    }
   ],
   "source": [
    "history = model.fit(partial_x_train, partial_y_train, batch_size=512, epochs=20, validation_data=(x_val, y_val))"
   ]
  },
  {
   "cell_type": "code",
   "execution_count": 70,
   "metadata": {},
   "outputs": [],
   "source": [
    "history_dict = history.history"
   ]
  },
  {
   "cell_type": "code",
   "execution_count": 71,
   "metadata": {},
   "outputs": [],
   "source": [
    "import matplotlib.pyplot as plt\n",
    "%matplotlib inline\n",
    "\n",
    "acc = history_dict['acc']\n",
    "val_acc = history_dict['val_acc']\n",
    "\n",
    "loss = history_dict['loss']\n",
    "val_loss = history_dict['val_loss']\n",
    "\n",
    "epochs = range(1, len(acc) + 1)"
   ]
  },
  {
   "cell_type": "code",
   "execution_count": 72,
   "metadata": {},
   "outputs": [
    {
     "data": {
      "text/plain": [
       "Text(0.5, 1.0, 'Loss during Training and Validation')"
      ]
     },
     "execution_count": 72,
     "metadata": {},
     "output_type": "execute_result"
    },
    {
     "data": {
      "image/png": "[encoded data removed]",
      "text/plain": [
       "<Figure size 432x288 with 1 Axes>"
      ]
     },
     "metadata": {
      "needs_background": "light"
     },
     "output_type": "display_data"
    }
   ],
   "source": [
    "plt.plot(epochs, loss, 'bo', label='Training Loss')\n",
    "plt.plot(epochs, val_loss, 'b', label='Validation Loss')\n",
    "plt.legend()\n",
    "plt.xlabel('Epochs')\n",
    "plt.ylabel('Loss')\n",
    "plt.title('Loss during Training and Validation')"
   ]
  },
  {
   "cell_type": "code",
   "execution_count": 73,
   "metadata": {},
   "outputs": [
    {
     "data": {
      "text/plain": [
       "Text(0.5, 1.0, 'Accuracy during Training and Validation')"
      ]
     },
     "execution_count": 73,
     "metadata": {},
     "output_type": "execute_result"
    },
    {
     "data": {
      "image/png": "[encoded data removed]",
      "text/plain": [
       "<Figure size 432x288 with 1 Axes>"
      ]
     },
     "metadata": {
      "needs_background": "light"
     },
     "output_type": "display_data"
    }
   ],
   "source": [
    "plt.plot(epochs, acc, 'bo', label='Training Accuracy')\n",
    "plt.plot(epochs, val_acc, 'b', label='Validation Accuracy')\n",
    "plt.legend()\n",
    "plt.xlabel('Epochs')\n",
    "plt.ylabel('Accuracy')\n",
    "plt.title('Accuracy during Training and Validation')"
   ]
  },
  {
   "cell_type": "code",
   "execution_count": 75,
   "metadata": {},
   "outputs": [
    {
     "name": "stdout",
     "output_type": "stream",
     "text": [
      "25000/25000 [==============================] - 3s 134us/step\n"
     ]
    }
   ],
   "source": [
    "results = model.evaluate(x_test, y_test)"
   ]
  },
  {
   "cell_type": "code",
   "execution_count": 76,
   "metadata": {},
   "outputs": [
    {
     "data": {
      "text/plain": [
       "[0.9036410574793816, 0.84468]"
      ]
     },
     "execution_count": 76,
     "metadata": {},
     "output_type": "execute_result"
    }
   ],
   "source": [
    "results"
   ]
  },
  {
   "cell_type": "code",
   "execution_count": 77,
   "metadata": {},
   "outputs": [
    {
     "data": {
      "text/plain": [
       "array([[2.0090251e-03],\n",
       "       [1.0000000e+00],\n",
       "       [9.8967910e-01],\n",
       "       ...,\n",
       "       [3.7067075e-04],\n",
       "       [3.5634825e-03],\n",
       "       [5.5380487e-01]], dtype=float32)"
      ]
     },
     "execution_count": 77,
     "metadata": {},
     "output_type": "execute_result"
    }
   ],
   "source": [
    "model.predict(x_test)"
   ]
  },
  {
   "cell_type": "code",
   "execution_count": 83,
   "metadata": {},
   "outputs": [],
   "source": [
    "# Experimentations\n",
    "\n",
    "exp_model = models.Sequential()\n",
    "\n",
    "exp_model.add(layers.Dense(40, activation='tanh', input_shape=(10000,)))\n",
    "exp_model.add(layers.Dense(20, activation='tanh'))\n",
    "exp_model.add(layers.Dense(1, activation='sigmoid'))"
   ]
  },
  {
   "cell_type": "code",
   "execution_count": 84,
   "metadata": {},
   "outputs": [],
   "source": [
    "exp_model.compile(optimizer='rmsprop', loss='mse', metrics=['accuracy'])"
   ]
  },
  {
   "cell_type": "code",
   "execution_count": 85,
   "metadata": {},
   "outputs": [
    {
     "name": "stdout",
     "output_type": "stream",
     "text": [
      "Train on 15000 samples, validate on 10000 samples\n",
      "Epoch 1/5\n",
      "15000/15000 [==============================] - 2s 122us/step - loss: 0.1520 - acc: 0.7871 - val_loss: 0.1046 - val_acc: 0.8647\n",
      "Epoch 2/5\n",
      "15000/15000 [==============================] - 2s 103us/step - loss: 0.0720 - acc: 0.9106 - val_loss: 0.0823 - val_acc: 0.8889\n",
      "Epoch 3/5\n",
      "15000/15000 [==============================] - 2s 103us/step - loss: 0.0504 - acc: 0.9378 - val_loss: 0.0838 - val_acc: 0.8862\n",
      "Epoch 4/5\n",
      "15000/15000 [==============================] - 2s 104us/step - loss: 0.0383 - acc: 0.9519 - val_loss: 0.0954 - val_acc: 0.8751\n",
      "Epoch 5/5\n",
      "15000/15000 [==============================] - 2s 104us/step - loss: 0.0322 - acc: 0.9615 - val_loss: 0.1014 - val_acc: 0.8689\n"
     ]
    }
   ],
   "source": [
    "exp_history = exp_model.fit(partial_x_train, partial_y_train, batch_size=512, epochs=5, validation_data=(x_val, y_val))"
   ]
  },
  {
   "cell_type": "code",
   "execution_count": 86,
   "metadata": {},
   "outputs": [
    {
     "name": "stdout",
     "output_type": "stream",
     "text": [
      "25000/25000 [==============================] - 2s 75us/step\n"
     ]
    },
    {
     "data": {
      "text/plain": [
       "[0.11222632730007172, 0.8566]"
      ]
     },
     "execution_count": 86,
     "metadata": {},
     "output_type": "execute_result"
    }
   ],
   "source": [
    "exp_model.evaluate(x_test, y_test)"
   ]
  }
 ],
 "metadata": {
  "kernelspec": {
   "display_name": "Python 3",
   "language": "python",
   "name": "python3"
  },
  "language_info": {
   "codemirror_mode": {
    "name": "ipython",
    "version": 3
   },
   "file_extension": ".py",
   "mimetype": "text/x-python",
   "name": "python",
   "nbconvert_exporter": "python",
   "pygments_lexer": "ipython3",
   "version": "3.6.7"
  }
 },
 "nbformat": 4,
 "nbformat_minor": 2
}
